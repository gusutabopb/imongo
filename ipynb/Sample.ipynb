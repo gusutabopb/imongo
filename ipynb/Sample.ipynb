{
 "cells": [
  {
   "cell_type": "code",
   "execution_count": 1,
   "metadata": {},
   "outputs": [
    {
     "name": "Output",
     "output_type": "stream",
     "text": [
      "admin    0.000GB\n",
      "cardata  0.000GB\n",
      "config   0.000GB\n",
      "local    0.000GB"
     ]
    }
   ],
   "source": [
    "show dbs"
   ]
  },
  {
   "cell_type": "code",
   "execution_count": 2,
   "metadata": {},
   "outputs": [
    {
     "name": "Output",
     "output_type": "stream",
     "text": [
      "switched to db cardata"
     ]
    }
   ],
   "source": [
    "use cardata"
   ]
  },
  {
   "cell_type": "code",
   "execution_count": 3,
   "metadata": {},
   "outputs": [
    {
     "name": "Output",
     "output_type": "stream",
     "text": [
      "cardata.details"
     ]
    }
   ],
   "source": [
    "db.details"
   ]
  },
  {
   "cell_type": "code",
   "execution_count": 7,
   "metadata": {},
   "outputs": [
    {
     "name": "Output",
     "output_type": "stream",
     "text": [
      "15"
     ]
    }
   ],
   "source": [
    "db.details.find().count()"
   ]
  },
  {
   "cell_type": "code",
   "execution_count": 8,
   "metadata": {},
   "outputs": [
    {
     "name": "Output",
     "output_type": "stream",
     "text": [
      "uncaught exception: SyntaxError: missing ) after argument list :\n",
      "@(shell):1:23"
     ]
    }
   ],
   "source": [
    "db.details.find(\"Model\":\"Duster\")"
   ]
  },
  {
   "cell_type": "code",
   "execution_count": 6,
   "metadata": {},
   "outputs": [
    {
     "name": "Output",
     "output_type": "stream",
     "text": [
      "WriteResult({ \"nInserted\" : 1 })"
     ]
    }
   ],
   "source": [
    "db.details.insert({\n",
    "    \"car_id\": 14,\n",
    "    \"Brand\": \"Mazda\",\n",
    "    \"Model\": \"MX-5\",\n",
    "    \"Mileage(Km/L)\": 9,\n",
    "    \"price(Lakhs)\": 25,\n",
    "    \"no of seats\": 2,\n",
    "    \"Top speed(Km/H)\": 230\n",
    "  })"
   ]
  },
  {
   "cell_type": "code",
   "execution_count": null,
   "metadata": {},
   "outputs": [],
   "source": []
  }
 ],
 "metadata": {
  "kernelspec": {
   "display_name": "IMongo",
   "language": "",
   "name": "imongo"
  },
  "language_info": {
   "codemirror_mode": "shell",
   "file_extension": ".js",
   "mimetype": "text/x-mongodb",
   "name": "javascript"
  }
 },
 "nbformat": 4,
 "nbformat_minor": 4
}
